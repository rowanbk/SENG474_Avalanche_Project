{
 "cells": [
  {
   "cell_type": "code",
   "execution_count": 93,
   "metadata": {},
   "outputs": [],
   "source": [
    "from sklearn import svm\n",
    "import numpy as np\n",
    "import matplotlib.pyplot as plt\n",
    "import random\n",
    "import csv\n",
    "\n",
    "with open('./snowFallData/dataSet_N_0.csv', newline='') as f:\n",
    "    data = list(csv.reader(f))\n",
    "train_0_x = [x[:-1] for x in data[1:]  if x[-1]!=-1]\n",
    "train_0_y = [x[-1] for x in data[1:] if x[-1]!=-1]\n",
    "\n",
    "with open('./snowFallData/dataSet_N_1.csv', newline='') as f:\n",
    "    data = list(csv.reader(f))\n",
    "train_1_x = [x[:-1] for x in data[1:]   if x[-1]!=-1]\n",
    "train_1_y = [x[-1] for x in data[1:]   if x[-1]!=-1]\n",
    "\n",
    "with open('./snowFallData/dataSet_N_2.csv', newline='') as f:\n",
    "    data = list(csv.reader(f))\n",
    "train_2_x = [x[:-1] for x in data[1:]   if x[-1]!=-1]\n",
    "train_2_y = [x[-1] for x in data[1:]   if x[-1]!=-1]\n",
    "\n",
    "with open('./snowFallData/dataSet_N_3.csv', newline='') as f:\n",
    "    data = list(csv.reader(f))\n",
    "train_3_x = [x[:-1] for x in data[1:]   if x[-1]!=-1]\n",
    "train_3_y = [x[-1] for x in data[1:]   if x[-1]!=-1]\n",
    "\n",
    "with open('./snowFallData/valSet_N_0.csv', newline='') as f:\n",
    "    data = list(csv.reader(f))\n",
    "test_0_x = [x[:-1] for x in data[1:]  if x[-1]!=-1]\n",
    "test_0_y = [x[-1] for x in data[1:] if x[-1]!=-1]\n",
    "\n",
    "with open('./snowFallData/valSet_N_1.csv', newline='') as f:\n",
    "    data = list(csv.reader(f))\n",
    "test_1_x = [x[:-1] for x in data[1:]]\n",
    "test_1_y = [x[-1] for x in data[1:]]\n",
    "\n",
    "with open('./snowFallData/valSet_N_2.csv', newline='') as f:\n",
    "    data = list(csv.reader(f))\n",
    "test_2_x = [x[:-1] for x in data[1:]]\n",
    "test_2_y = [x[-1] for x in data[1:]]\n",
    "\n",
    "\n",
    "with open('./snowFallData/valSet_N_3.csv', newline='') as f:\n",
    "    data = list(csv.reader(f))\n",
    "test_3_x = [x[:-1] for x in data[1:]   if x[-1]!=-1]\n",
    "test_3_y = [x[-1] for x in data[1:]   if x[-1]!=-1]\n",
    "\n"
   ]
  },
  {
   "cell_type": "code",
   "execution_count": 89,
   "metadata": {},
   "outputs": [],
   "source": [
    "def k_fold_cross(model, k, x_train, y_train):\n",
    "    error=[]\n",
    "    for i in range(k):\n",
    "        low_index=int(i*len(x_train)/k)\n",
    "        high_index=int((i+1)*len(x_train)/k)\n",
    "        temp=model.fit(x_train[:low_index]+x_train[high_index:], y_train[:low_index]+y_train[high_index:])\n",
    "        error.append( 1-temp.score(x_train[low_index:high_index], y_train[low_index:high_index])) \n",
    "    return sum(error)/len(error) \n"
   ]
  },
  {
   "cell_type": "code",
   "execution_count": 97,
   "metadata": {},
   "outputs": [
    {
     "data": {
      "image/png": "[encoded data removed]",
      "text/plain": [
       "<Figure size 432x288 with 1 Axes>"
      ]
     },
     "metadata": {
      "needs_background": "light"
     },
     "output_type": "display_data"
    },
    {
     "name": "stdout",
     "output_type": "stream",
     "text": [
      "[53.77483443708609, 52.18543046357617, 49.536423841059595, 46.88741721854305, 44.370860927152314, 43.841059602649004, 43.576158940397356, 42.91390728476821, 42.913907284768214, 41.45695364238411, 41.192052980132445, 42.64900662251655, 43.04635761589403, 42.64900662251655, 43.576158940397356]\n"
     ]
    }
   ],
   "source": [
    "score_0, score_1, score_2, score_3, x_axis=[], [], [], [], []\n",
    "\n",
    "for x in range(15):  \n",
    "    c=0.1*(1.75**x)\n",
    "    clf = svm.SVC(C=c, kernel='linear')\n",
    "    score_0.append(k_fold_cross(clf, 5, train_0_x, train_0_y)*100)\n",
    "    score_1.append(k_fold_cross(clf, 5, train_1_x, train_1_y)*100)\n",
    "    score_2.append(k_fold_cross(clf, 5, train_2_x, train_2_y)*100)\n",
    "    score_3.append(k_fold_cross(clf, 5, train_3_x, train_3_y)*100)\n",
    "\n",
    "    x_axis.append(c)\n",
    "    \n",
    "plt.plot(x_axis, score_0, label='Dataset 0')\n",
    "plt.plot(x_axis, score_1, label='Dataset 1')\n",
    "plt.plot(x_axis, score_2, label='Dataset 2')\n",
    "plt.plot(x_axis, score_3, label='Dataset 3')\n",
    "\n",
    "\n",
    "\n",
    "plt.xlabel('Regularization Parameter')\n",
    "plt.ylabel('Percent Error')\n",
    "plt.legend()\n",
    "plt.show()    \n",
    "print(score_3)"
   ]
  },
  {
   "cell_type": "code",
   "execution_count": 98,
   "metadata": {},
   "outputs": [
    {
     "name": "stdout",
     "output_type": "stream",
     "text": [
      "[55.89491111885675, 55.36685256186824, 53.64586964098989, 51.92488672011154, 49.54426629487626, 48.621470895782494, 46.9074590449634, 46.378529104217506, 43.47072150575114, 41.48832345765075, 39.90501917044267, 38.84715928895085, 37.92262112234228, 37.66120599512025, 38.0550714534681]\n"
     ]
    }
   ],
   "source": [
    "print(score_1)"
   ]
  },
  {
   "cell_type": "code",
   "execution_count": 91,
   "metadata": {},
   "outputs": [
    {
     "name": "stdout",
     "output_type": "stream",
     "text": [
      "0.525\n",
      "0.30000000000000004\n",
      "0.4\n",
      "0.4\n"
     ]
    }
   ],
   "source": [
    "clf = svm.SVC().fit(train_0_x, train_0_y)\n",
    "print(1-clf.score(test_0_x, test_0_y))\n",
    "clf = svm.SVC().fit(train_1_x, train_1_y)\n",
    "print(1-clf.score(test_1_x, test_1_y))\n",
    "clf = svm.SVC().fit(train_2_x, train_2_y)\n",
    "print(1-clf.score(test_2_x, test_2_y))\n",
    "clf = svm.SVC().fit(train_3_x, train_3_y)\n",
    "print(1-clf.score(test_3_x, test_3_y))"
   ]
  },
  {
   "cell_type": "code",
   "execution_count": null,
   "metadata": {},
   "outputs": [],
   "source": [
    "from sklearn.preprocessing import StandardScaler\n",
    "from sklearn.datasets import load_iris\n",
    "from sklearn.model_selection import StratifiedShuffleSplit\n",
    "from sklearn.model_selection import GridSearchCV\n",
    "\n",
    "\n",
    "C_2d_range = [1e-2, 1, 1e2]\n",
    "gamma_2d_range = [1e-1, 1, 1e1]\n",
    "classifiers = []\n",
    "for C in C_2d_range:\n",
    "    for gamma in gamma_2d_range:\n",
    "        clf = SVC(C=C, gamma=gamma)\n",
    "        clf.fit(train_3_x, train_3_y)\n",
    "        classifiers.append((C, gamma, clf))\n",
    "        \n",
    "        \n",
    "\n",
    "# #############################################################################\n",
    "# Visualization\n",
    "#\n",
    "# draw visualization of parameter effects\n",
    "\n",
    "plt.figure(figsize=(8, 6))\n",
    "xx, yy = np.meshgrid(np.linspace(-3, 3, 200), np.linspace(-3, 3, 200))\n",
    "for (k, (C, gamma, clf)) in enumerate(classifiers):\n",
    "    # evaluate decision function in a grid\n",
    "    Z = clf.decision_function(np.c_[xx.ravel(), yy.ravel()])\n",
    "    Z = Z.reshape(xx.shape)\n",
    "\n",
    "    # visualize decision function for these parameters\n",
    "    plt.subplot(len(C_2d_range), len(gamma_2d_range), k + 1)\n",
    "    plt.title(\"gamma=10^%d, C=10^%d\" % (np.log10(gamma), np.log10(C)),\n",
    "              size='medium')\n",
    "\n",
    "    # visualize parameter's effect on decision function\n",
    "    plt.pcolormesh(xx, yy, -Z, cmap=plt.cm.RdBu)\n",
    "    plt.scatter(X_2d[:, 0], X_2d[:, 1], c=y_2d, cmap=plt.cm.RdBu_r,\n",
    "                edgecolors='k')\n",
    "    plt.xticks(())\n",
    "    plt.yticks(())\n",
    "    plt.axis('tight')\n",
    "\n",
    "scores = grid.cv_results_['mean_test_score'].reshape(len(C_range),\n",
    "                                                     len(gamma_range))\n",
    "\n",
    "# Draw heatmap of the validation accuracy as a function of gamma and C\n",
    "#\n",
    "# The score are encoded as colors with the hot colormap which varies from dark\n",
    "# red to bright yellow. As the most interesting scores are all located in the\n",
    "# 0.92 to 0.97 range we use a custom normalizer to set the mid-point to 0.92 so\n",
    "# as to make it easier to visualize the small variations of score values in the\n",
    "# interesting range while not brutally collapsing all the low score values to\n",
    "# the same color.\n",
    "\n",
    "plt.figure(figsize=(8, 6))\n",
    "plt.subplots_adjust(left=.2, right=0.95, bottom=0.15, top=0.95)\n",
    "plt.imshow(scores, interpolation='nearest', cmap=plt.cm.hot,\n",
    "           norm=MidpointNormalize(vmin=0.2, midpoint=0.92))\n",
    "plt.xlabel('gamma')\n",
    "plt.ylabel('C')\n",
    "plt.colorbar()\n",
    "plt.xticks(np.arange(len(gamma_range)), gamma_range, rotation=45)\n",
    "plt.yticks(np.arange(len(C_range)), C_range)\n",
    "plt.title('Validation accuracy')\n",
    "plt.show()"
   ]
  },
  {
   "cell_type": "code",
   "execution_count": null,
   "metadata": {},
   "outputs": [],
   "source": []
  }
 ],
 "metadata": {
  "kernelspec": {
   "display_name": "Python 3",
   "language": "python",
   "name": "python3"
  },
  "language_info": {
   "codemirror_mode": {
    "name": "ipython",
    "version": 3
   },
   "file_extension": ".py",
   "mimetype": "text/x-python",
   "name": "python",
   "nbconvert_exporter": "python",
   "pygments_lexer": "ipython3",
   "version": "3.7.4"
  }
 },
 "nbformat": 4,
 "nbformat_minor": 2
}
